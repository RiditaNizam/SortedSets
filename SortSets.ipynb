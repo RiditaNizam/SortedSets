{
  "nbformat": 4,
  "nbformat_minor": 0,
  "metadata": {
    "colab": {
      "name": "SortSets.ipynb",
      "provenance": [],
      "collapsed_sections": [],
      "authorship_tag": "ABX9TyNS1iI6w6KnJhZ103lZkzuR",
      "include_colab_link": true
    },
    "kernelspec": {
      "name": "python3",
      "display_name": "Python 3"
    },
    "language_info": {
      "name": "python"
    }
  },
  "cells": [
    {
      "cell_type": "markdown",
      "metadata": {
        "id": "view-in-github",
        "colab_type": "text"
      },
      "source": [
        "<a href=\"https://colab.research.google.com/github/RiditaNizam/SortedSets/blob/main/SortSets.ipynb\" target=\"_parent\"><img src=\"https://colab.research.google.com/assets/colab-badge.svg\" alt=\"Open In Colab\"/></a>"
      ]
    },
    {
      "cell_type": "code",
      "metadata": {
        "colab": {
          "base_uri": "https://localhost:8080/"
        },
        "id": "Iy006VNCL4x4",
        "outputId": "7afa3ecb-94ed-4b2c-d8d1-65a5798c082d"
      },
      "source": [
        "#Sort in ascending order\n",
        "grades = {90, 91, 100, 93, 94}\n",
        "sorted_set = sorted(grades)\n",
        "print(sorted_set)\n",
        "\n",
        "#Sort in descending order\n",
        "descending_set = sorted(grades, reverse=True)\n",
        "print(descending_set)\n",
        "\n",
        "#Sort in ascending order by length\n",
        "food = {\"avocado\", \"almond\", \"grapefruit\"}\n",
        "sorted_by_length = sorted(food, key=len, reverse=False)\n",
        "print(sorted_by_length)"
      ],
      "execution_count": 6,
      "outputs": [
        {
          "output_type": "stream",
          "text": [
            "[90, 91, 93, 94, 100]\n",
            "[100, 94, 93, 91, 90]\n",
            "['almond', 'avocado', 'grapefruit']\n"
          ],
          "name": "stdout"
        }
      ]
    }
  ]
}